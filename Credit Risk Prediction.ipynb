{
 "cells": [
  {
   "cell_type": "markdown",
   "metadata": {},
   "source": [
    "# The problem\n",
    "\n",
    "You are given a dataset of customers who have applied for credit.\n",
    "Each customer is associated with some number of attributes, and a rating of being a Good/Bad credit risk.\n",
    "\n",
    "## The dataset\n",
    "\n",
    "- The dataset is given in the file \"credit_data.csv\".\n",
    "- Each row corresponds to one customer.\n",
    "- There are 20 attributes, some numeric and some categorical.\n",
    "- The last column \"Credit Risk\" encodes whether the customer was judged to be a Good/Bad credit risk\n",
    "    - 1: Good credit risk\n",
    "    - 2: Bad credit risk\n",
    "\n",
    "You will use this data to come up with a model that predicts \"Credit Risk\" for a customer from the customer's attributes.\n",
    "\n",
    "### Attributes\n",
    "\n",
    "A description of the attributes is given in the plain text file \"credit_data_attributes.txt\".\n",
    "\n",
    "You will notice that the values for many attributes are encoded as strings.\n",
    "For example, attribute 7 is the customer's Employment Status, having possible values\n",
    "A71, A72, .., A75.  Per the file, \"A71\" means the customer is unemployed.\n",
    "\n",
    "#### Currency\n",
    "\n",
    "The currency units are \"DM\" (old German currency: the Deutsche Mark).\n",
    "\n",
    "As you might guess: this data is not recent; you may find anachronisms other than the currency."
   ]
  },
  {
   "cell_type": "markdown",
   "metadata": {},
   "source": [
    "# Your submission\n",
    "\n",
    "There are some ground rules, mainly to make grading easier for the GA and instructor.\n",
    "\n",
    "Your `sklearn` model should be stored in the variable `credit_model`; this will allow the GA to apply `sklearn` methods to this variable to evaluate your predictions, e.g.\n",
    ">`credit_model.predict( ... )`\n",
    "\n",
    "Your submission must contain a Jupyter notebook in a file named\n",
    ">LastName_FirstName_MidTerm_Project.ipynb\n",
    "\n",
    "where `LastName` and `FirstName` should be replaced with your name (as it appears on the class roster).\n",
    "\n",
    "**IF** your submission consists of files in addition to this one notebook, you can submit a *single* zip file.  This file **must** conform to the following rules:\n",
    "- The notebook must execute, unchanged, when unzipped into *an arbitrary directory*\n",
    "    - This means that all paths, e.g., to data files or modules, must be *relative* and not absolute.\n",
    "    "
   ]
  },
  {
   "cell_type": "markdown",
   "metadata": {},
   "source": [
    "## <font color=Blue>Import Modules"
   ]
  },
  {
   "cell_type": "code",
   "execution_count": 2,
   "metadata": {},
   "outputs": [],
   "source": [
    "#Importing packages\n",
    "import pandas as pd\n",
    "import numpy as np\n",
    "import os\n",
    "import matplotlib.pyplot as plt\n",
    "import seaborn as sns\n",
    "\n",
    "#Model pre-cursor\n",
    "from sklearn.feature_selection import RFE\n",
    "from sklearn.model_selection import GridSearchCV\n",
    "\n",
    "#For running model\n",
    "from sklearn.linear_model import LogisticRegression\n",
    "from sklearn.ensemble import RandomForestClassifier\n",
    "from sklearn.svm import SVC\n",
    "\n",
    "#For model metrices\n",
    "from sklearn.model_selection import cross_val_score,cross_val_predict\n",
    "from sklearn.metrics import accuracy_score,confusion_matrix,classification_report,roc_curve,fbeta_score,roc_auc_score"
   ]
  },
  {
   "cell_type": "markdown",
   "metadata": {},
   "source": [
    "## <font color=Blue>Getting the data \n",
    "You may obtain the train and test datasets from the repository using code from the following cell.\n",
    "\n",
    "**NOTE** You may need to change the NOTEBOOK_ROOT variable to point to the directory into which you've cloned the repository.  On my machine, it is `~/Notebooks/NYU`."
   ]
  },
  {
   "cell_type": "code",
   "execution_count": 3,
   "metadata": {},
   "outputs": [],
   "source": [
    "NOTEBOOK_ROOT = \"~/Notebooks/NYU\"\n",
    "\n",
    "credit_data = pd.read_csv( os.path.join(NOTEBOOK_ROOT, \"credit_data.csv\") ,na_values=' ')"
   ]
  },
  {
   "cell_type": "markdown",
   "metadata": {},
   "source": [
    "###### <font color=Orange>Renaming Data and creating Target variable 1 for Good Risk, 0 for Bad Risk"
   ]
  },
  {
   "cell_type": "code",
   "execution_count": 4,
   "metadata": {},
   "outputs": [],
   "source": [
    "#Renaming columns\n",
    "credit_data.rename(columns={'Attribute 1':'check_acc',\t'Attribute 2':'dur',\t'Attribute 3':'credit_hist',\n",
    "                           'Attribute 4':'loan_purpose',\t'Attribute 5':'loan_amount',\t'Attribute 6':'saving_acc',\n",
    "                           'Attribute 7':'employment_status',\t'Attribute 8':'installment_rate',\n",
    "                           'Attribute 9':'status_sex',\t'Attribute 10':'debtor_guarantor',\n",
    "                           'Attribute 11':'present_residence_since',\t'Attribute 12':'property',\t'Attribute 13':'age',\n",
    "                           'Attribute 14':'other_installment',\t'Attribute 15':'housing_status',\n",
    "                           'Attribute 16':'existing_credits',\t'Attribute 17':'job_status',\t'Attribute 18':'count_liable_people',\n",
    "                           'Attribute 19':'telephone_status',\t'Attribute 20':'foreign_worker','Credit Risk':'target'},inplace=True)\n",
    "\n",
    "#Replacing Bad Credit Risk(2) with 0 to make it binary. 1 is Good Risk and 0 is Bad Risk\n",
    "credit_data = credit_data.replace({\"target\": {2:0}})"
   ]
  },
  {
   "cell_type": "markdown",
   "metadata": {},
   "source": [
    "## <font color=Blue>Understanding Data"
   ]
  },
  {
   "cell_type": "markdown",
   "metadata": {},
   "source": [
    "###### <font color=Orange>Snapshot of data"
   ]
  },
  {
   "cell_type": "code",
   "execution_count": 5,
   "metadata": {
    "scrolled": false
   },
   "outputs": [
    {
     "data": {
      "text/html": [
       "<div>\n",
       "<style scoped>\n",
       "    .dataframe tbody tr th:only-of-type {\n",
       "        vertical-align: middle;\n",
       "    }\n",
       "\n",
       "    .dataframe tbody tr th {\n",
       "        vertical-align: top;\n",
       "    }\n",
       "\n",
       "    .dataframe thead th {\n",
       "        text-align: right;\n",
       "    }\n",
       "</style>\n",
       "<table border=\"1\" class=\"dataframe\">\n",
       "  <thead>\n",
       "    <tr style=\"text-align: right;\">\n",
       "      <th></th>\n",
       "      <th>check_acc</th>\n",
       "      <th>dur</th>\n",
       "      <th>credit_hist</th>\n",
       "      <th>loan_purpose</th>\n",
       "      <th>loan_amount</th>\n",
       "      <th>saving_acc</th>\n",
       "      <th>employment_status</th>\n",
       "      <th>installment_rate</th>\n",
       "      <th>status_sex</th>\n",
       "      <th>debtor_guarantor</th>\n",
       "      <th>...</th>\n",
       "      <th>property</th>\n",
       "      <th>age</th>\n",
       "      <th>other_installment</th>\n",
       "      <th>housing_status</th>\n",
       "      <th>existing_credits</th>\n",
       "      <th>job_status</th>\n",
       "      <th>count_liable_people</th>\n",
       "      <th>telephone_status</th>\n",
       "      <th>foreign_worker</th>\n",
       "      <th>target</th>\n",
       "    </tr>\n",
       "  </thead>\n",
       "  <tbody>\n",
       "    <tr>\n",
       "      <th>0</th>\n",
       "      <td>A11</td>\n",
       "      <td>6</td>\n",
       "      <td>A34</td>\n",
       "      <td>A43</td>\n",
       "      <td>1169</td>\n",
       "      <td>A65</td>\n",
       "      <td>A75</td>\n",
       "      <td>4</td>\n",
       "      <td>A93</td>\n",
       "      <td>A101</td>\n",
       "      <td>...</td>\n",
       "      <td>A121</td>\n",
       "      <td>67</td>\n",
       "      <td>A143</td>\n",
       "      <td>A152</td>\n",
       "      <td>2</td>\n",
       "      <td>A173</td>\n",
       "      <td>1</td>\n",
       "      <td>A192</td>\n",
       "      <td>A201</td>\n",
       "      <td>1</td>\n",
       "    </tr>\n",
       "    <tr>\n",
       "      <th>1</th>\n",
       "      <td>A12</td>\n",
       "      <td>48</td>\n",
       "      <td>A32</td>\n",
       "      <td>A43</td>\n",
       "      <td>5951</td>\n",
       "      <td>A61</td>\n",
       "      <td>A73</td>\n",
       "      <td>2</td>\n",
       "      <td>A92</td>\n",
       "      <td>A101</td>\n",
       "      <td>...</td>\n",
       "      <td>A121</td>\n",
       "      <td>22</td>\n",
       "      <td>A143</td>\n",
       "      <td>A152</td>\n",
       "      <td>1</td>\n",
       "      <td>A173</td>\n",
       "      <td>1</td>\n",
       "      <td>A191</td>\n",
       "      <td>A201</td>\n",
       "      <td>0</td>\n",
       "    </tr>\n",
       "    <tr>\n",
       "      <th>2</th>\n",
       "      <td>A14</td>\n",
       "      <td>12</td>\n",
       "      <td>A34</td>\n",
       "      <td>A46</td>\n",
       "      <td>2096</td>\n",
       "      <td>A61</td>\n",
       "      <td>A74</td>\n",
       "      <td>2</td>\n",
       "      <td>A93</td>\n",
       "      <td>A101</td>\n",
       "      <td>...</td>\n",
       "      <td>A121</td>\n",
       "      <td>49</td>\n",
       "      <td>A143</td>\n",
       "      <td>A152</td>\n",
       "      <td>1</td>\n",
       "      <td>A172</td>\n",
       "      <td>2</td>\n",
       "      <td>A191</td>\n",
       "      <td>A201</td>\n",
       "      <td>1</td>\n",
       "    </tr>\n",
       "    <tr>\n",
       "      <th>3</th>\n",
       "      <td>A11</td>\n",
       "      <td>42</td>\n",
       "      <td>A32</td>\n",
       "      <td>A42</td>\n",
       "      <td>7882</td>\n",
       "      <td>A61</td>\n",
       "      <td>A74</td>\n",
       "      <td>2</td>\n",
       "      <td>A93</td>\n",
       "      <td>A103</td>\n",
       "      <td>...</td>\n",
       "      <td>A122</td>\n",
       "      <td>45</td>\n",
       "      <td>A143</td>\n",
       "      <td>A153</td>\n",
       "      <td>1</td>\n",
       "      <td>A173</td>\n",
       "      <td>2</td>\n",
       "      <td>A191</td>\n",
       "      <td>A201</td>\n",
       "      <td>1</td>\n",
       "    </tr>\n",
       "    <tr>\n",
       "      <th>4</th>\n",
       "      <td>A11</td>\n",
       "      <td>24</td>\n",
       "      <td>A33</td>\n",
       "      <td>A40</td>\n",
       "      <td>4870</td>\n",
       "      <td>A61</td>\n",
       "      <td>A73</td>\n",
       "      <td>3</td>\n",
       "      <td>A93</td>\n",
       "      <td>A101</td>\n",
       "      <td>...</td>\n",
       "      <td>A124</td>\n",
       "      <td>53</td>\n",
       "      <td>A143</td>\n",
       "      <td>A153</td>\n",
       "      <td>2</td>\n",
       "      <td>A173</td>\n",
       "      <td>2</td>\n",
       "      <td>A191</td>\n",
       "      <td>A201</td>\n",
       "      <td>0</td>\n",
       "    </tr>\n",
       "  </tbody>\n",
       "</table>\n",
       "<p>5 rows × 21 columns</p>\n",
       "</div>"
      ],
      "text/plain": [
       "  check_acc  dur credit_hist loan_purpose  loan_amount saving_acc  \\\n",
       "0       A11    6         A34          A43         1169        A65   \n",
       "1       A12   48         A32          A43         5951        A61   \n",
       "2       A14   12         A34          A46         2096        A61   \n",
       "3       A11   42         A32          A42         7882        A61   \n",
       "4       A11   24         A33          A40         4870        A61   \n",
       "\n",
       "  employment_status  installment_rate status_sex debtor_guarantor  ...  \\\n",
       "0               A75                 4        A93             A101  ...   \n",
       "1               A73                 2        A92             A101  ...   \n",
       "2               A74                 2        A93             A101  ...   \n",
       "3               A74                 2        A93             A103  ...   \n",
       "4               A73                 3        A93             A101  ...   \n",
       "\n",
       "   property age  other_installment housing_status existing_credits  \\\n",
       "0      A121  67               A143           A152                2   \n",
       "1      A121  22               A143           A152                1   \n",
       "2      A121  49               A143           A152                1   \n",
       "3      A122  45               A143           A153                1   \n",
       "4      A124  53               A143           A153                2   \n",
       "\n",
       "   job_status count_liable_people  telephone_status foreign_worker target  \n",
       "0        A173                   1              A192           A201      1  \n",
       "1        A173                   1              A191           A201      0  \n",
       "2        A172                   2              A191           A201      1  \n",
       "3        A173                   2              A191           A201      1  \n",
       "4        A173                   2              A191           A201      0  \n",
       "\n",
       "[5 rows x 21 columns]"
      ]
     },
     "execution_count": 5,
     "metadata": {},
     "output_type": "execute_result"
    }
   ],
   "source": [
    "credit_data.head()"
   ]
  },
  {
   "cell_type": "markdown",
   "metadata": {},
   "source": [
    "###### <font color=Orange>Content of data showing variable type and count"
   ]
  },
  {
   "cell_type": "code",
   "execution_count": 6,
   "metadata": {
    "scrolled": true
   },
   "outputs": [
    {
     "name": "stdout",
     "output_type": "stream",
     "text": [
      "<class 'pandas.core.frame.DataFrame'>\n",
      "RangeIndex: 1000 entries, 0 to 999\n",
      "Data columns (total 21 columns):\n",
      "check_acc                  1000 non-null object\n",
      "dur                        1000 non-null int64\n",
      "credit_hist                1000 non-null object\n",
      "loan_purpose               1000 non-null object\n",
      "loan_amount                1000 non-null int64\n",
      "saving_acc                 1000 non-null object\n",
      "employment_status          1000 non-null object\n",
      "installment_rate           1000 non-null int64\n",
      "status_sex                 1000 non-null object\n",
      "debtor_guarantor           1000 non-null object\n",
      "present_residence_since    1000 non-null int64\n",
      "property                   1000 non-null object\n",
      "age                        1000 non-null int64\n",
      "other_installment          1000 non-null object\n",
      "housing_status             1000 non-null object\n",
      "existing_credits           1000 non-null int64\n",
      "job_status                 1000 non-null object\n",
      "count_liable_people        1000 non-null int64\n",
      "telephone_status           1000 non-null object\n",
      "foreign_worker             1000 non-null object\n",
      "target                     1000 non-null int64\n",
      "dtypes: int64(8), object(13)\n",
      "memory usage: 164.1+ KB\n"
     ]
    }
   ],
   "source": [
    "credit_data.info()"
   ]
  },
  {
   "cell_type": "markdown",
   "metadata": {},
   "source": [
    "###### <font color=Orange>Summary of Numeric parameters"
   ]
  },
  {
   "cell_type": "code",
   "execution_count": 7,
   "metadata": {
    "scrolled": false
   },
   "outputs": [
    {
     "data": {
      "text/html": [
       "<div>\n",
       "<style scoped>\n",
       "    .dataframe tbody tr th:only-of-type {\n",
       "        vertical-align: middle;\n",
       "    }\n",
       "\n",
       "    .dataframe tbody tr th {\n",
       "        vertical-align: top;\n",
       "    }\n",
       "\n",
       "    .dataframe thead th {\n",
       "        text-align: right;\n",
       "    }\n",
       "</style>\n",
       "<table border=\"1\" class=\"dataframe\">\n",
       "  <thead>\n",
       "    <tr style=\"text-align: right;\">\n",
       "      <th></th>\n",
       "      <th>dur</th>\n",
       "      <th>loan_amount</th>\n",
       "      <th>installment_rate</th>\n",
       "      <th>present_residence_since</th>\n",
       "      <th>age</th>\n",
       "      <th>existing_credits</th>\n",
       "      <th>count_liable_people</th>\n",
       "      <th>target</th>\n",
       "    </tr>\n",
       "  </thead>\n",
       "  <tbody>\n",
       "    <tr>\n",
       "      <th>count</th>\n",
       "      <td>1000.000000</td>\n",
       "      <td>1000.000000</td>\n",
       "      <td>1000.000000</td>\n",
       "      <td>1000.000000</td>\n",
       "      <td>1000.000000</td>\n",
       "      <td>1000.000000</td>\n",
       "      <td>1000.000000</td>\n",
       "      <td>1000.000000</td>\n",
       "    </tr>\n",
       "    <tr>\n",
       "      <th>mean</th>\n",
       "      <td>20.903000</td>\n",
       "      <td>3271.258000</td>\n",
       "      <td>2.973000</td>\n",
       "      <td>2.845000</td>\n",
       "      <td>35.546000</td>\n",
       "      <td>1.407000</td>\n",
       "      <td>1.155000</td>\n",
       "      <td>0.700000</td>\n",
       "    </tr>\n",
       "    <tr>\n",
       "      <th>std</th>\n",
       "      <td>12.058814</td>\n",
       "      <td>2822.736876</td>\n",
       "      <td>1.118715</td>\n",
       "      <td>1.103718</td>\n",
       "      <td>11.375469</td>\n",
       "      <td>0.577654</td>\n",
       "      <td>0.362086</td>\n",
       "      <td>0.458487</td>\n",
       "    </tr>\n",
       "    <tr>\n",
       "      <th>min</th>\n",
       "      <td>4.000000</td>\n",
       "      <td>250.000000</td>\n",
       "      <td>1.000000</td>\n",
       "      <td>1.000000</td>\n",
       "      <td>19.000000</td>\n",
       "      <td>1.000000</td>\n",
       "      <td>1.000000</td>\n",
       "      <td>0.000000</td>\n",
       "    </tr>\n",
       "    <tr>\n",
       "      <th>25%</th>\n",
       "      <td>12.000000</td>\n",
       "      <td>1365.500000</td>\n",
       "      <td>2.000000</td>\n",
       "      <td>2.000000</td>\n",
       "      <td>27.000000</td>\n",
       "      <td>1.000000</td>\n",
       "      <td>1.000000</td>\n",
       "      <td>0.000000</td>\n",
       "    </tr>\n",
       "    <tr>\n",
       "      <th>50%</th>\n",
       "      <td>18.000000</td>\n",
       "      <td>2319.500000</td>\n",
       "      <td>3.000000</td>\n",
       "      <td>3.000000</td>\n",
       "      <td>33.000000</td>\n",
       "      <td>1.000000</td>\n",
       "      <td>1.000000</td>\n",
       "      <td>1.000000</td>\n",
       "    </tr>\n",
       "    <tr>\n",
       "      <th>75%</th>\n",
       "      <td>24.000000</td>\n",
       "      <td>3972.250000</td>\n",
       "      <td>4.000000</td>\n",
       "      <td>4.000000</td>\n",
       "      <td>42.000000</td>\n",
       "      <td>2.000000</td>\n",
       "      <td>1.000000</td>\n",
       "      <td>1.000000</td>\n",
       "    </tr>\n",
       "    <tr>\n",
       "      <th>max</th>\n",
       "      <td>72.000000</td>\n",
       "      <td>18424.000000</td>\n",
       "      <td>4.000000</td>\n",
       "      <td>4.000000</td>\n",
       "      <td>75.000000</td>\n",
       "      <td>4.000000</td>\n",
       "      <td>2.000000</td>\n",
       "      <td>1.000000</td>\n",
       "    </tr>\n",
       "  </tbody>\n",
       "</table>\n",
       "</div>"
      ],
      "text/plain": [
       "               dur   loan_amount  installment_rate  present_residence_since  \\\n",
       "count  1000.000000   1000.000000       1000.000000              1000.000000   \n",
       "mean     20.903000   3271.258000          2.973000                 2.845000   \n",
       "std      12.058814   2822.736876          1.118715                 1.103718   \n",
       "min       4.000000    250.000000          1.000000                 1.000000   \n",
       "25%      12.000000   1365.500000          2.000000                 2.000000   \n",
       "50%      18.000000   2319.500000          3.000000                 3.000000   \n",
       "75%      24.000000   3972.250000          4.000000                 4.000000   \n",
       "max      72.000000  18424.000000          4.000000                 4.000000   \n",
       "\n",
       "               age  existing_credits  count_liable_people       target  \n",
       "count  1000.000000       1000.000000          1000.000000  1000.000000  \n",
       "mean     35.546000          1.407000             1.155000     0.700000  \n",
       "std      11.375469          0.577654             0.362086     0.458487  \n",
       "min      19.000000          1.000000             1.000000     0.000000  \n",
       "25%      27.000000          1.000000             1.000000     0.000000  \n",
       "50%      33.000000          1.000000             1.000000     1.000000  \n",
       "75%      42.000000          2.000000             1.000000     1.000000  \n",
       "max      75.000000          4.000000             2.000000     1.000000  "
      ]
     },
     "execution_count": 7,
     "metadata": {},
     "output_type": "execute_result"
    }
   ],
   "source": [
    "credit_data.describe()"
   ]
  },
  {
   "cell_type": "markdown",
   "metadata": {},
   "source": [
    "###### <font color=Orange>Summary of Categorical parameters"
   ]
  },
  {
   "cell_type": "code",
   "execution_count": 8,
   "metadata": {
    "scrolled": false
   },
   "outputs": [
    {
     "data": {
      "text/html": [
       "<div>\n",
       "<style scoped>\n",
       "    .dataframe tbody tr th:only-of-type {\n",
       "        vertical-align: middle;\n",
       "    }\n",
       "\n",
       "    .dataframe tbody tr th {\n",
       "        vertical-align: top;\n",
       "    }\n",
       "\n",
       "    .dataframe thead th {\n",
       "        text-align: right;\n",
       "    }\n",
       "</style>\n",
       "<table border=\"1\" class=\"dataframe\">\n",
       "  <thead>\n",
       "    <tr style=\"text-align: right;\">\n",
       "      <th></th>\n",
       "      <th>check_acc</th>\n",
       "      <th>credit_hist</th>\n",
       "      <th>loan_purpose</th>\n",
       "      <th>saving_acc</th>\n",
       "      <th>employment_status</th>\n",
       "      <th>status_sex</th>\n",
       "      <th>debtor_guarantor</th>\n",
       "      <th>property</th>\n",
       "      <th>other_installment</th>\n",
       "      <th>housing_status</th>\n",
       "      <th>job_status</th>\n",
       "      <th>telephone_status</th>\n",
       "      <th>foreign_worker</th>\n",
       "    </tr>\n",
       "  </thead>\n",
       "  <tbody>\n",
       "    <tr>\n",
       "      <th>count</th>\n",
       "      <td>1000</td>\n",
       "      <td>1000</td>\n",
       "      <td>1000</td>\n",
       "      <td>1000</td>\n",
       "      <td>1000</td>\n",
       "      <td>1000</td>\n",
       "      <td>1000</td>\n",
       "      <td>1000</td>\n",
       "      <td>1000</td>\n",
       "      <td>1000</td>\n",
       "      <td>1000</td>\n",
       "      <td>1000</td>\n",
       "      <td>1000</td>\n",
       "    </tr>\n",
       "    <tr>\n",
       "      <th>unique</th>\n",
       "      <td>4</td>\n",
       "      <td>5</td>\n",
       "      <td>10</td>\n",
       "      <td>5</td>\n",
       "      <td>5</td>\n",
       "      <td>4</td>\n",
       "      <td>3</td>\n",
       "      <td>4</td>\n",
       "      <td>3</td>\n",
       "      <td>3</td>\n",
       "      <td>4</td>\n",
       "      <td>2</td>\n",
       "      <td>2</td>\n",
       "    </tr>\n",
       "    <tr>\n",
       "      <th>top</th>\n",
       "      <td>A14</td>\n",
       "      <td>A32</td>\n",
       "      <td>A43</td>\n",
       "      <td>A61</td>\n",
       "      <td>A73</td>\n",
       "      <td>A93</td>\n",
       "      <td>A101</td>\n",
       "      <td>A123</td>\n",
       "      <td>A143</td>\n",
       "      <td>A152</td>\n",
       "      <td>A173</td>\n",
       "      <td>A191</td>\n",
       "      <td>A201</td>\n",
       "    </tr>\n",
       "    <tr>\n",
       "      <th>freq</th>\n",
       "      <td>394</td>\n",
       "      <td>530</td>\n",
       "      <td>280</td>\n",
       "      <td>603</td>\n",
       "      <td>339</td>\n",
       "      <td>548</td>\n",
       "      <td>907</td>\n",
       "      <td>332</td>\n",
       "      <td>814</td>\n",
       "      <td>713</td>\n",
       "      <td>630</td>\n",
       "      <td>596</td>\n",
       "      <td>963</td>\n",
       "    </tr>\n",
       "  </tbody>\n",
       "</table>\n",
       "</div>"
      ],
      "text/plain": [
       "       check_acc credit_hist loan_purpose saving_acc employment_status  \\\n",
       "count       1000        1000         1000       1000              1000   \n",
       "unique         4           5           10          5                 5   \n",
       "top          A14         A32          A43        A61               A73   \n",
       "freq         394         530          280        603               339   \n",
       "\n",
       "       status_sex debtor_guarantor property other_installment housing_status  \\\n",
       "count        1000             1000     1000              1000           1000   \n",
       "unique          4                3        4                 3              3   \n",
       "top           A93             A101     A123              A143           A152   \n",
       "freq          548              907      332               814            713   \n",
       "\n",
       "       job_status telephone_status foreign_worker  \n",
       "count        1000             1000           1000  \n",
       "unique          4                2              2  \n",
       "top          A173             A191           A201  \n",
       "freq          630              596            963  "
      ]
     },
     "execution_count": 8,
     "metadata": {},
     "output_type": "execute_result"
    }
   ],
   "source": [
    "credit_data.describe(include=['object'])"
   ]
  },
  {
   "cell_type": "markdown",
   "metadata": {},
   "source": [
    "#### <font color=Green>The attributes have the following meaning:\n",
    " -\tcheck_acc: Status of existing checking account\n",
    "         - A11 :      ... <    0 DM\n",
    "         - A13 : 0 <= ... <  200 DM\n",
    "         - A13 :      ... >= 200 DM /salary assignments for at least 1 year\n",
    "         - A14 : no checking account\n",
    "    \n",
    " -\tdur: Duration (in month) of loan\n",
    " \n",
    " -\tcredit_hist: Credit history\n",
    "\t     - A30 : no credits taken/all credits paid back duly\n",
    "         - A31 : all credits at this bank paid back duly\n",
    "\t     - A32 : existing credits paid back duly till now\n",
    "         - A33 : delay in paying off in the past\n",
    "\t     - A34 : critical account/ other credits existing (not at this bank\n",
    "         \n",
    " -\tloan_purpose: Purpose\n",
    "\t     - A40 : car (new)\n",
    "\t     - A41 : car (used)\n",
    "\t     - A42 : furniture/equipment\n",
    "\t     - A43 : radio/television\n",
    "\t     - A44 : domestic appliances\n",
    "\t     - A45 : repairs\n",
    "\t     - A46 : education\n",
    "\t     - A47 : (vacation - does not exist?)\n",
    "\t     - A48 : retraining\n",
    "\t     - A49 : business\n",
    "\t     - A410 : others\n",
    "\n",
    " -\tloan_amount: Credit amount\n",
    " \n",
    " -\tsaving_acc: Savings account/bonds\n",
    "\t     - A61 :          ... <  100 DM\n",
    "\t     - A62 :   100 <= ... <  500 DM\n",
    "\t     - A63 :   500 <= ... < 1000 DM\n",
    "\t     - A64 :          .. >= 1000 DM\n",
    "         - A65 :   unknown/ no savings account\n",
    "         \n",
    " -\temployment_status: Present employment since\n",
    " -\tinstallment_rate: Installment rate in percentage of disposable income\n",
    " -\tStatus_Sex: Personal status and sex\n",
    " -\tdebtor_guarantor: Other debtors / guarantors\n",
    "\t     - A101 : none\n",
    "\t     - A102 : co-applicant\n",
    "\t     - A103 : guarantor\n",
    "         \n",
    " -\tpresent_residence_since: Present residence since (takes value 1,2,3 or 4)\n",
    " -\tproperty: Property\n",
    "\t     - A121 : real estate\n",
    "\t     - A122 : if not A121 : building society savings agreement/life insurance\n",
    "         -  A123 : if not A121/A122 : car or other, not in attribute 6\n",
    "\t     - A124 : unknown / no property\n",
    " -\tage: Age in years\n",
    " -\tother_installment: Other installment plans \n",
    "\t     - A141 : bank\n",
    "\t     - A142 : stores\n",
    "\t     - A143 : none\n",
    " -\thousing_status: Housing\n",
    "\t     - A151 : rent\n",
    "\t     - A152 : own\n",
    "\t     - A153 : for free\n",
    " -\texisting_credits: Number of existing credits at this bank\n",
    " -\tjob_status: Job\n",
    "\t     - A171 : unemployed/ unskilled  - non-resident\n",
    "\t     - A172 : unskilled - resident\n",
    "\t     - A173 : skilled employee / official\n",
    "\t     - A174 : management/ self-employed/highly qualified employee/ officer\n",
    " -\tcount_liable_people: Number of people being liable to provide maintenance for\n",
    " -\ttelephone_status: Telephone\n",
    "\t     - A191 : none\n",
    "\t     - A192 : yes, registered under the customers name\n",
    " -\tforeign_worker: foreign worker\n",
    "\t     - A201 : yes\n",
    "\t     - A202 : no"
   ]
  },
  {
   "cell_type": "markdown",
   "metadata": {},
   "source": [
    "# <font color=Blue>Splitting Data into Train and Test\n",
    " - Splitting into 80% and 20% since there are just 1000 observations in total"
   ]
  },
  {
   "cell_type": "code",
   "execution_count": 9,
   "metadata": {},
   "outputs": [
    {
     "data": {
      "text/plain": [
       "800"
      ]
     },
     "execution_count": 9,
     "metadata": {},
     "output_type": "execute_result"
    }
   ],
   "source": [
    "train_data=credit_data.sample(frac=0.8,random_state=4321)\n",
    "test_data=credit_data.drop(train_data.index)\n",
    "\n",
    "len(train_data)"
   ]
  },
  {
   "cell_type": "markdown",
   "metadata": {},
   "source": [
    "# <font color=Blue>Data Analysis\n",
    "Checking relationship between target and parameters"
   ]
  },
  {
   "cell_type": "markdown",
   "metadata": {},
   "source": [
    "###### <font color=Orange> Plot Target vs Categorical Parameters"
   ]
  },
  {
   "cell_type": "code",
   "execution_count": 10,
   "metadata": {
    "scrolled": true
   },
   "outputs": [],
   "source": [
    "def bar_cat(parameter,target,dataset):\n",
    "    \"\"\"\n",
    "    Plot/print the distribution of Categorical Parameters with respect to target\n",
    "    \n",
    "    Input\n",
    "    ----------\n",
    "    parameter: List of attributes (i.e., column names)\n",
    "    target: y-axis for all the plots\n",
    "    dataset: DataFrame\n",
    "    \n",
    "    Output\n",
    "    ----------\n",
    "    Give bar plot for each categorical parameter vs Target variable \n",
    "    \"\"\"\n",
    "    \n",
    "    for i, j in enumerate(parameter):\n",
    "        dataset=dataset.sort_values(by=[j])\n",
    "        sns.barplot(x=j,y=target,data=dataset)    \n",
    "        plt.show()"
   ]
  },
  {
   "cell_type": "code",
   "execution_count": 11,
   "metadata": {
    "scrolled": true
   },
   "outputs": [
    {
     "name": "stderr",
     "output_type": "stream",
     "text": [
      "C:\\Users\\rupal\\AppData\\Local\\Continuum\\anaconda3\\lib\\site-packages\\scipy\\stats\\stats.py:1713: FutureWarning: Using a non-tuple sequence for multidimensional indexing is deprecated; use `arr[tuple(seq)]` instead of `arr[seq]`. In the future this will be interpreted as an array index, `arr[np.array(seq)]`, which will result either in an error or a different result.\n",
      "  return np.add.reduce(sorted[indexer] * weights, axis=axis) / sumval\n"
     ]
    },
    {
     "data": {
      "image/png": "[encoded data removed]",
      "text/plain": [
       "<Figure size 432x288 with 1 Axes>"
      ]
     },
     "metadata": {
      "needs_background": "light"
     },
     "output_type": "display_data"
    },
    {
     "name": "stderr",
     "output_type": "stream",
     "text": [
      "C:\\Users\\rupal\\AppData\\Local\\Continuum\\anaconda3\\lib\\site-packages\\scipy\\stats\\stats.py:1713: FutureWarning: Using a non-tuple sequence for multidimensional indexing is deprecated; use `arr[tuple(seq)]` instead of `arr[seq]`. In the future this will be interpreted as an array index, `arr[np.array(seq)]`, which will result either in an error or a different result.\n",
      "  return np.add.reduce(sorted[indexer] * weights, axis=axis) / sumval\n"
     ]
    },
    {
     "data": {
      "image/png": "[encoded data removed]",
      "text/plain": [
       "<Figure size 432x288 with 1 Axes>"
      ]
     },
     "metadata": {
      "needs_background": "light"
     },
     "output_type": "display_data"
    },
    {
     "name": "stderr",
     "output_type": "stream",
     "text": [
      "C:\\Users\\rupal\\AppData\\Local\\Continuum\\anaconda3\\lib\\site-packages\\scipy\\stats\\stats.py:1713: FutureWarning: Using a non-tuple sequence for multidimensional indexing is deprecated; use `arr[tuple(seq)]` instead of `arr[seq]`. In the future this will be interpreted as an array index, `arr[np.array(seq)]`, which will result either in an error or a different result.\n",
      "  return np.add.reduce(sorted[indexer] * weights, axis=axis) / sumval\n"
     ]
    },
    {
     "data": {
      "image/png": "[encoded data removed]",
      "text/plain": [
       "<Figure size 432x288 with 1 Axes>"
      ]
     },
     "metadata": {
      "needs_background": "light"
     },
     "output_type": "display_data"
    },
    {
     "name": "stderr",
     "output_type": "stream",
     "text": [
      "C:\\Users\\rupal\\AppData\\Local\\Continuum\\anaconda3\\lib\\site-packages\\scipy\\stats\\stats.py:1713: FutureWarning: Using a non-tuple sequence for multidimensional indexing is deprecated; use `arr[tuple(seq)]` instead of `arr[seq]`. In the future this will be interpreted as an array index, `arr[np.array(seq)]`, which will result either in an error or a different result.\n",
      "  return np.add.reduce(sorted[indexer] * weights, axis=axis) / sumval\n"
     ]
    },
    {
     "data": {
      "image/png": "[encoded data removed]",
      "text/plain": [
       "<Figure size 432x288 with 1 Axes>"
      ]
     },
     "metadata": {
      "needs_background": "light"
     },
     "output_type": "display_data"
    },
    {
     "name": "stderr",
     "output_type": "stream",
     "text": [
      "C:\\Users\\rupal\\AppData\\Local\\Continuum\\anaconda3\\lib\\site-packages\\scipy\\stats\\stats.py:1713: FutureWarning: Using a non-tuple sequence for multidimensional indexing is deprecated; use `arr[tuple(seq)]` instead of `arr[seq]`. In the future this will be interpreted as an array index, `arr[np.array(seq)]`, which will result either in an error or a different result.\n",
      "  return np.add.reduce(sorted[indexer] * weights, axis=axis) / sumval\n"
     ]
    },
    {
     "data": {
      "image/png": "[encoded data removed]",
      "text/plain": [
       "<Figure size 432x288 with 1 Axes>"
      ]
     },
     "metadata": {
      "needs_background": "light"
     },
     "output_type": "display_data"
    },
    {
     "name": "stderr",
     "output_type": "stream",
     "text": [
      "C:\\Users\\rupal\\AppData\\Local\\Continuum\\anaconda3\\lib\\site-packages\\scipy\\stats\\stats.py:1713: FutureWarning: Using a non-tuple sequence for multidimensional indexing is deprecated; use `arr[tuple(seq)]` instead of `arr[seq]`. In the future this will be interpreted as an array index, `arr[np.array(seq)]`, which will result either in an error or a different result.\n",
      "  return np.add.reduce(sorted[indexer] * weights, axis=axis) / sumval\n"
     ]
    },
    {
     "data": {
      "image/png": "[encoded data removed]",
      "text/plain": [
       "<Figure size 432x288 with 1 Axes>"
      ]
     },
     "metadata": {
      "needs_background": "light"
     },
     "output_type": "display_data"
    },
    {
     "name": "stderr",
     "output_type": "stream",
     "text": [
      "C:\\Users\\rupal\\AppData\\Local\\Continuum\\anaconda3\\lib\\site-packages\\scipy\\stats\\stats.py:1713: FutureWarning: Using a non-tuple sequence for multidimensional indexing is deprecated; use `arr[tuple(seq)]` instead of `arr[seq]`. In the future this will be interpreted as an array index, `arr[np.array(seq)]`, which will result either in an error or a different result.\n",
      "  return np.add.reduce(sorted[indexer] * weights, axis=axis) / sumval\n"
     ]
    },
    {
     "data": {
      "image/png": "[encoded data removed]",
      "text/plain": [
       "<Figure size 432x288 with 1 Axes>"
      ]
     },
     "metadata": {
      "needs_background": "light"
     },
     "output_type": "display_data"
    },
    {
     "name": "stderr",
     "output_type": "stream",
     "text": [
      "C:\\Users\\rupal\\AppData\\Local\\Continuum\\anaconda3\\lib\\site-packages\\scipy\\stats\\stats.py:1713: FutureWarning: Using a non-tuple sequence for multidimensional indexing is deprecated; use `arr[tuple(seq)]` instead of `arr[seq]`. In the future this will be interpreted as an array index, `arr[np.array(seq)]`, which will result either in an error or a different result.\n",
      "  return np.add.reduce(sorted[indexer] * weights, axis=axis) / sumval\n"
     ]
    },
    {
     "data": {
      "image/png": "[encoded data removed]",
      "text/plain": [
       "<Figure size 432x288 with 1 Axes>"
      ]
     },
     "metadata": {
      "needs_background": "light"
     },
     "output_type": "display_data"
    },
    {
     "name": "stderr",
     "output_type": "stream",
     "text": [
      "C:\\Users\\rupal\\AppData\\Local\\Continuum\\anaconda3\\lib\\site-packages\\scipy\\stats\\stats.py:1713: FutureWarning: Using a non-tuple sequence for multidimensional indexing is deprecated; use `arr[tuple(seq)]` instead of `arr[seq]`. In the future this will be interpreted as an array index, `arr[np.array(seq)]`, which will result either in an error or a different result.\n",
      "  return np.add.reduce(sorted[indexer] * weights, axis=axis) / sumval\n"
     ]
    },
    {
     "data": {
      "image/png": "[encoded data removed]",
      "text/plain": [
       "<Figure size 432x288 with 1 Axes>"
      ]
     },
     "metadata": {
      "needs_background": "light"
     },
     "output_type": "display_data"
    },
    {
     "name": "stderr",
     "output_type": "stream",
     "text": [
      "C:\\Users\\rupal\\AppData\\Local\\Continuum\\anaconda3\\lib\\site-packages\\scipy\\stats\\stats.py:1713: FutureWarning: Using a non-tuple sequence for multidimensional indexing is deprecated; use `arr[tuple(seq)]` instead of `arr[seq]`. In the future this will be interpreted as an array index, `arr[np.array(seq)]`, which will result either in an error or a different result.\n",
      "  return np.add.reduce(sorted[indexer] * weights, axis=axis) / sumval\n"
     ]
    },
    {
     "data": {
      "image/png": "[encoded data removed]",
      "text/plain": [
       "<Figure size 432x288 with 1 Axes>"
      ]
     },
     "metadata": {
      "needs_background": "light"
     },
     "output_type": "display_data"
    },
    {
     "name": "stderr",
     "output_type": "stream",
     "text": [
      "C:\\Users\\rupal\\AppData\\Local\\Continuum\\anaconda3\\lib\\site-packages\\scipy\\stats\\stats.py:1713: FutureWarning: Using a non-tuple sequence for multidimensional indexing is deprecated; use `arr[tuple(seq)]` instead of `arr[seq]`. In the future this will be interpreted as an array index, `arr[np.array(seq)]`, which will result either in an error or a different result.\n",
      "  return np.add.reduce(sorted[indexer] * weights, axis=axis) / sumval\n"
     ]
    },
    {
     "data": {
      "image/png": "[encoded data removed]",
      "text/plain": [
       "<Figure size 432x288 with 1 Axes>"
      ]
     },
     "metadata": {
      "needs_background": "light"
     },
     "output_type": "display_data"
    },
    {
     "name": "stderr",
     "output_type": "stream",
     "text": [
      "C:\\Users\\rupal\\AppData\\Local\\Continuum\\anaconda3\\lib\\site-packages\\scipy\\stats\\stats.py:1713: FutureWarning: Using a non-tuple sequence for multidimensional indexing is deprecated; use `arr[tuple(seq)]` instead of `arr[seq]`. In the future this will be interpreted as an array index, `arr[np.array(seq)]`, which will result either in an error or a different result.\n",
      "  return np.add.reduce(sorted[indexer] * weights, axis=axis) / sumval\n"
     ]
    },
    {
     "data": {
      "image/png": "[encoded data removed]",
      "text/plain": [
       "<Figure size 432x288 with 1 Axes>"
      ]
     },
     "metadata": {
      "needs_background": "light"
     },
     "output_type": "display_data"
    },
    {
     "name": "stderr",
     "output_type": "stream",
     "text": [
      "C:\\Users\\rupal\\AppData\\Local\\Continuum\\anaconda3\\lib\\site-packages\\scipy\\stats\\stats.py:1713: FutureWarning: Using a non-tuple sequence for multidimensional indexing is deprecated; use `arr[tuple(seq)]` instead of `arr[seq]`. In the future this will be interpreted as an array index, `arr[np.array(seq)]`, which will result either in an error or a different result.\n",
      "  return np.add.reduce(sorted[indexer] * weights, axis=axis) / sumval\n"
     ]
    },
    {
     "data": {
      "image/png": "[encoded data removed]",
      "text/plain": [
       "<Figure size 432x288 with 1 Axes>"
      ]
     },
     "metadata": {
      "needs_background": "light"
     },
     "output_type": "display_data"
    },
    {
     "name": "stderr",
     "output_type": "stream",
     "text": [
      "C:\\Users\\rupal\\AppData\\Local\\Continuum\\anaconda3\\lib\\site-packages\\scipy\\stats\\stats.py:1713: FutureWarning: Using a non-tuple sequence for multidimensional indexing is deprecated; use `arr[tuple(seq)]` instead of `arr[seq]`. In the future this will be interpreted as an array index, `arr[np.array(seq)]`, which will result either in an error or a different result.\n",
      "  return np.add.reduce(sorted[indexer] * weights, axis=axis) / sumval\n"
     ]
    },
    {
     "data": {
      "image/png": "[encoded data removed]",
      "text/plain": [
       "<Figure size 432x288 with 1 Axes>"
      ]
     },
     "metadata": {
      "needs_background": "light"
     },
     "output_type": "display_data"
    },
    {
     "name": "stderr",
     "output_type": "stream",
     "text": [
      "C:\\Users\\rupal\\AppData\\Local\\Continuum\\anaconda3\\lib\\site-packages\\scipy\\stats\\stats.py:1713: FutureWarning: Using a non-tuple sequence for multidimensional indexing is deprecated; use `arr[tuple(seq)]` instead of `arr[seq]`. In the future this will be interpreted as an array index, `arr[np.array(seq)]`, which will result either in an error or a different result.\n",
      "  return np.add.reduce(sorted[indexer] * weights, axis=axis) / sumval\n"
     ]
    },
    {
     "data": {
      "image/png": "[encoded data removed]",
      "text/plain": [
       "<Figure size 432x288 with 1 Axes>"
      ]
     },
     "metadata": {
      "needs_background": "light"
     },
     "output_type": "display_data"
    },
    {
     "name": "stderr",
     "output_type": "stream",
     "text": [
      "C:\\Users\\rupal\\AppData\\Local\\Continuum\\anaconda3\\lib\\site-packages\\scipy\\stats\\stats.py:1713: FutureWarning: Using a non-tuple sequence for multidimensional indexing is deprecated; use `arr[tuple(seq)]` instead of `arr[seq]`. In the future this will be interpreted as an array index, `arr[np.array(seq)]`, which will result either in an error or a different result.\n",
      "  return np.add.reduce(sorted[indexer] * weights, axis=axis) / sumval\n"
     ]
    },
    {
     "data": {
      "image/png": "[encoded data removed]",
      "text/plain": [
       "<Figure size 432x288 with 1 Axes>"
      ]
     },
     "metadata": {
      "needs_background": "light"
     },
     "output_type": "display_data"
    },
    {
     "name": "stderr",
     "output_type": "stream",
     "text": [
      "C:\\Users\\rupal\\AppData\\Local\\Continuum\\anaconda3\\lib\\site-packages\\scipy\\stats\\stats.py:1713: FutureWarning: Using a non-tuple sequence for multidimensional indexing is deprecated; use `arr[tuple(seq)]` instead of `arr[seq]`. In the future this will be interpreted as an array index, `arr[np.array(seq)]`, which will result either in an error or a different result.\n",
      "  return np.add.reduce(sorted[indexer] * weights, axis=axis) / sumval\n"
     ]
    },
    {
     "data": {
      "image/png": "[encoded data removed]",
      "text/plain": [
       "<Figure size 432x288 with 1 Axes>"
      ]
     },
     "metadata": {
      "needs_background": "light"
     },
     "output_type": "display_data"
    }
   ],
   "source": [
    "bar_cat(['check_acc','credit_hist','loan_purpose','saving_acc','employment_status','installment_rate','status_sex',\n",
    "         'debtor_guarantor','present_residence_since','property','other_installment','housing_status',\n",
    "         'existing_credits','job_status','telephone_status','foreign_worker','count_liable_people'],\n",
    "        'target',train_data)"
   ]
  },
  {
   "cell_type": "markdown",
   "metadata": {},
   "source": [
    "##### <font color=Orange>Plot Target vs Numeric Parameters"
   ]
  },
  {
   "cell_type": "code",
   "execution_count": 12,
   "metadata": {},
   "outputs": [],
   "source": [
    "def bar_num(parameter,target,dataset,bins):\n",
    "    \"\"\"\n",
    "    Plot/print the distribution of Numerican Parameters with respect to target\n",
    "    \n",
    "    Input\n",
    "    ----------\n",
    "    parameter: List of attributes (i.e., column names)\n",
    "    target: y-axis for all the plots\n",
    "    dataset: DataFrame\n",
    "    bins: Number of bins \n",
    "    \n",
    "    Output\n",
    "    ----------\n",
    "    Give bar plot for each numerical parameter vs Target variable \n",
    "    \"\"\"\n",
    "    \n",
    "    for i, j in enumerate(parameter):\n",
    "        dataset['bin_parameter']=pd.qcut(dataset[j], bins)\n",
    "        Good_risk_prob=dataset.groupby('bin_parameter').agg({target:'mean'})\n",
    "        sns.barplot(x=Good_risk_prob.index,y=target,data=Good_risk_prob)\n",
    "        plt.xticks(rotation=90),plt.xlabel(j)\n",
    "        plt.show()\n",
    "        dataset.drop('bin_parameter', axis=1,inplace=True)\n"
   ]
  },
  {
   "cell_type": "code",
   "execution_count": 13,
   "metadata": {
    "scrolled": false
   },
   "outputs": [
    {
     "data": {
      "image/png": "[encoded data removed]",
      "text/plain": [
       "<Figure size 432x288 with 1 Axes>"
      ]
     },
     "metadata": {
      "needs_background": "light"
     },
     "output_type": "display_data"
    },
    {
     "data": {
      "image/png": "[encoded data removed]",
      "text/plain": [
       "<Figure size 432x288 with 1 Axes>"
      ]
     },
     "metadata": {
      "needs_background": "light"
     },
     "output_type": "display_data"
    },
    {
     "data": {
      "image/png": "[encoded data removed]",
      "text/plain": [
       "<Figure size 432x288 with 1 Axes>"
      ]
     },
     "metadata": {
      "needs_background": "light"
     },
     "output_type": "display_data"
    }
   ],
   "source": [
    "bar_num(['dur','loan_amount','age'],'target',train_data,7)"
   ]
  },
  {
   "cell_type": "markdown",
   "metadata": {},
   "source": [
    "##### <font color=Orange>Conditional Relationship between 2 parameters vs Survival probability"
   ]
  },
  {
   "cell_type": "code",
   "execution_count": 14,
   "metadata": {},
   "outputs": [],
   "source": [
    "def bar_mixed(parameter1,parameter2,target,dataset):\n",
    "    \"\"\"\n",
    "    Plot/print barplot of 2 parameters vs target to see if there exists any conditional relationship \n",
    "    \n",
    "    Input\n",
    "    ----------\n",
    "    parameter1: first parameter for for x-axis\n",
    "    parameter2: second parameter for additional plots\n",
    "    target: y-axis for all the plots\n",
    "    dataset: DataFrame\n",
    "    \n",
    "    Output\n",
    "    ----------\n",
    "    Give bar plot \n",
    "    \"\"\"\n",
    "\n",
    "    sns.catplot(x=parameter1, y =target,  col=parameter2,data=train_data,kind=\"bar\", height=3, aspect=.8)\n",
    "    plt.show()"
   ]
  },
  {
   "cell_type": "code",
   "execution_count": 15,
   "metadata": {
    "scrolled": true
   },
   "outputs": [
    {
     "data": {
      "text/plain": [
       "(0, 15672)"
      ]
     },
     "execution_count": 15,
     "metadata": {},
     "output_type": "execute_result"
    },
    {
     "data": {
      "image/png": "[encoded data removed]",
      "text/plain": [
       "<Figure size 432x288 with 1 Axes>"
      ]
     },
     "metadata": {
      "needs_background": "light"
     },
     "output_type": "display_data"
    }
   ],
   "source": [
    "#Distribution of 'Loan Amount'\n",
    "train_data[\"loan_amount\"].hist(bins=30, density=True, stacked=True)\n",
    "train_data[\"loan_amount\"].plot(kind='density')\n",
    "\n",
    "plt.xlim(0,train_data[\"loan_amount\"].max())"
   ]
  },
  {
   "cell_type": "markdown",
   "metadata": {},
   "source": [
    "##### <font color=Green>Conclusion of Data Analysis Section\n",
    " - **Checking Account**: Riskiness decreases as amount in saving account increases. Also, applicants with no checking account are least risky which can not be explained. So this parameter can be split into 2 parameters as: (1) No saving account; (2) With saving account and different balance buckets\n",
    " - **Saving Account**: Customers with less than 500DM in their savings account are more risky than customers with higher balance or no saving account. New parameter creation same as Checking Account parametrs\n",
    " - **Credit History**: Critical account/credits in other bank are good risk, customers with all credits paid back fully is bad risk. This seems counter-intuitive but this is what data shows\n",
    " - **Loan Purpose**: When loan is taken for buying used car, radio/television or for retraining, they are good credit risk, when its for education and new car, it is bad credit risk                                               \n",
    " - **Employment Status**: Customers with no job or less than 1 year of job experience are more riskier than experienced customers, but the trend is not linear. This parameter can be split into '<1 year or no job' and '>1 year' job experience\n",
    " - **Loan installment rate**: Riskiness increases with increasing installment rate. Good Risk: 1>2>3>4\n",
    " - **Status/Sex**: Divorced/Seperated Male or Divorced/Seperated/Married Female are more risky than singles or married male, maybe because they have less obligations and expenses\n",
    " - **Debtor/Gurantor**: Customers with gurantor are good risk compared to other applicants\n",
    " - **Present residence since**: This parameter doesnt hold much variation in terms of risk. Can drop this variable\n",
    " - **Property**: It seems to be a important variable in terms of variation in risk depending on holding property (good risk) and not holding any property (bad risk). Can be treated as numeric variable. Good Risk: A11>A12>A13>A14\n",
    " - **Other Installment**: Applicants with no other loans are less risky than applicants with loan. And applicants with bank loans are more risky tahn store loans.Can be treated as numeric variable. Good Risk: A141<A42<A43\n",
    " - **Housing Status**: Applicants with their own house are less risky. Can be divided into 2 parameters: 'Own home' ond 'Not Own'\n",
    " - **Existing Credits in this bank**: Riskiness decreases with increasing credits till 3, and then riskiness increases for 4 credits in the bank. More number of credit from the bank shows loyalty to the bank, but if it is too high, then it suggests bad risk. So this parameter can be split into 2 parameters as: (1) Between 1 to 3 credits; (2) >3 credits\n",
    " - **Job Status**: Not much variation in risk and kind of unintuitive. Can drop this variable\n",
    " - **Telephone**: Applicants with phone are slightly less risky than without phone\n",
    " - **Foreign Worker**: Foreign workers are more riskier than citizens\n",
    " - **Count of liable people**: Not much information in this parameter\n",
    " - **Duration**: Higher the duration of the loan, more riskier it gets as probability of default increases for longer period compared to short period\n",
    " - **Loan amount**: Not much variation in risk except for very high loan amount which has high risk because of large exposure amount. Binary variable with loan amount>10,000 and <10,000 where 10,000 is between min and max value of loan amount (approx)\n",
    " - **Age**: Decreasing riskiness with increasing age which is intuitive as older people have good credit history and have more experience and savings"
   ]
  },
  {
   "cell_type": "markdown",
   "metadata": {},
   "source": [
    "# <font color=Blue>Data Transformation\n",
    " - Converting categorical variable into binary using get_dummies\n",
    " - Creating new variables from raw variables as per discussion in Data Analysis Section"
   ]
  },
  {
   "cell_type": "markdown",
   "metadata": {},
   "source": [
    "#####  <font color=Orange>Creating dummies for categorical parameters"
   ]
  },
  {
   "cell_type": "code",
   "execution_count": 16,
   "metadata": {
    "scrolled": true
   },
   "outputs": [],
   "source": [
    "def dummies(parameter,dataset):\n",
    "    \n",
    "    for i, var in enumerate(parameter):\n",
    "        dataset=pd.get_dummies(dataset,columns=[var])         \n",
    "    \n",
    "    return (dataset)"
   ]
  },
  {
   "cell_type": "code",
   "execution_count": 17,
   "metadata": {
    "scrolled": true
   },
   "outputs": [],
   "source": [
    "train_data=dummies(['loan_purpose','status_sex','debtor_guarantor','other_installment'],train_data)\n",
    "test_data=dummies(['loan_purpose','status_sex','debtor_guarantor','other_installment'],test_data)"
   ]
  },
  {
   "cell_type": "markdown",
   "metadata": {},
   "source": [
    "####  <font color=Orange>Creating new parameters"
   ]
  },
  {
   "cell_type": "code",
   "execution_count": 18,
   "metadata": {},
   "outputs": [],
   "source": [
    "for data in [train_data,test_data]:\n",
    "\n",
    "    #Spline Split Method for \"Checking Account\". Treating A11,A12,A13 as continuous variable with values 1,2,3 respectively and A14 as seperate variable       \n",
    "    data['with_check_acc'] = data['check_acc'].str[-1].astype(int)\n",
    "    data.loc[data['with_check_acc']==4, 'with_check_acc'] = 0\n",
    "\n",
    "    data['no_check_acc'] = data['check_acc'].str[-1].astype(int)\n",
    "    data.loc[data['no_check_acc'] != 4, 'no_check_acc'] = 0\n",
    "    data.loc[data['no_check_acc']==4, 'no_check_acc'] = 1\n",
    "\n",
    "    #Spline Split Method for \"Saving Account\". Treating A61,A62,A63,A64 as continuous variable with values 1,2,3,4 respectively and A65 as seperate variable       \n",
    "    data['with_saving_acc'] = data['saving_acc'].str[-1].astype(int)\n",
    "    data.loc[data['with_saving_acc']==5, 'with_saving_acc'] = 0\n",
    "\n",
    "    data['no_saving_acc'] = data['saving_acc'].str[-1].astype(int)\n",
    "    data.loc[data['no_saving_acc'] != 5, 'no_saving_acc'] = 0\n",
    "    data.loc[data['no_saving_acc']==5, 'no_saving_acc'] = 1\n",
    "\n",
    "    #\"Credit History\" Treating as quantitative variable with riskiness: 0>1>2>3>4>5\n",
    "    data['credit_hist'] = data['credit_hist'].str[-1].astype(int)\n",
    "\n",
    "    #\"Property\" Treating as quantitative variable with riskiness: 4>3>2>1\n",
    "    data['property'] = data['property'].str[-1].astype(int)\n",
    "\n",
    "    #\"Housing\" Treating as Binary Variable with 'Own House' or 'Not own House'\n",
    "    data['housing_own'] = data['housing_status'].str[-1].astype(int)\n",
    "    data.loc[data['housing_own']!=2, 'housing_own'] = 0\n",
    "    data.loc[data['housing_own']==2, 'housing_own'] = 1\n",
    "\n",
    "    #Spline Split Method for \"Existing Credits in the bank\". Treating 1,2,3 credits as continuous and 4 credits as seperate variable\n",
    "    data['existing_credits_1to3'] = data['existing_credits'].astype(int)\n",
    "\n",
    "    data['existing_credits_4'] = data['existing_credits'].astype(int)\n",
    "    data.loc[data['existing_credits_4'] != 4, 'existing_credits_4'] = 0\n",
    "    data.loc[data['existing_credits_4']==4, 'existing_credits_4'] = 1\n",
    "    \n",
    "    #\"Loan Amount\" Treating as Binary Variable with amount>10,000 as more risky, others less risky\n",
    "    data['loan_amount_GT10k'] = data['loan_amount'].astype(int)\n",
    "    data.loc[data['loan_amount_GT10k']<10000, 'loan_amount_GT10k'] = 0\n",
    "    data.loc[data['loan_amount_GT10k']>=10000, 'loan_amount_GT10k'] = 1\n",
    "\n",
    "    #\"Employment Status\" is treated as binary with <1 year experience and >=1 year experience\n",
    "    data['employment_GT1'] = data['employment_status'].str[-1].astype(int)\n",
    "    data.loc[data['employment_GT1'] <=2, 'employment_GT1'] = 0\n",
    "    data.loc[data['employment_GT1']>2, 'employment_GT1'] = 1\n",
    "    \n",
    "    #\"Telephone\" treated as binary variable\n",
    "    data['telephone_status'] = data['telephone_status'].str[-1].astype(int)\n",
    "    data.loc[data['telephone_status'] == 1, 'existing_credits_4'] = 0\n",
    "    data.loc[data['telephone_status'] == 2, 'existing_credits_4'] = 1\n",
    "    \n",
    "    #\"Foreign Worker\" treated as binary variable\n",
    "    data['foreign_worker'] = data['foreign_worker'].str[-1].astype(int)\n",
    "    data.loc[data['foreign_worker'] == 2, 'foreign_worker'] = 0\n",
    "    \n",
    "    data.drop(['job_status','present_residence_since','check_acc','saving_acc',\n",
    "               'housing_status','existing_credits','loan_amount','employment_status'], axis=1,inplace=True)"
   ]
  },
  {
   "cell_type": "markdown",
   "metadata": {},
   "source": [
    "# <font color=Blue>Building Model"
   ]
  },
  {
   "cell_type": "markdown",
   "metadata": {},
   "source": [
    "##### <font color=Orange>Defining dependent(Y_train, Y_test) and independent(X_train, X_test) for the model"
   ]
  },
  {
   "cell_type": "code",
   "execution_count": 19,
   "metadata": {},
   "outputs": [],
   "source": [
    "def dep_indep(train,test):\n",
    "\n",
    "    X_train = train.drop(\"target\", axis=1)\n",
    "    Y_train = train[\"target\"]\n",
    "    \n",
    "    X_test  = test.drop(\"target\", axis=1)\n",
    "    Y_test = test[\"target\"]\n",
    "    \n",
    "    return X_train,Y_train,X_test,Y_test"
   ]
  },
  {
   "cell_type": "markdown",
   "metadata": {},
   "source": [
    "##### <font color=Orange> Baseline Model\n",
    "\n",
    " - <font color=Black> The baseline model is to assign the most frequent target i.e Good Risk for all the applicants"
   ]
  },
  {
   "cell_type": "code",
   "execution_count": 20,
   "metadata": {},
   "outputs": [
    {
     "name": "stdout",
     "output_type": "stream",
     "text": [
      "SCORE_BASELINE: 69.6250\n",
      "CONFUSION MATRIX: \n",
      "  [[  0 243]\n",
      " [  0 557]]\n",
      "Metrices:\n",
      "               precision    recall  f1-score   support\n",
      "\n",
      "           0       0.00      0.00      0.00       243\n",
      "           1       0.70      1.00      0.82       557\n",
      "\n",
      "   micro avg       0.70      0.70      0.70       800\n",
      "   macro avg       0.35      0.50      0.41       800\n",
      "weighted avg       0.48      0.70      0.57       800\n",
      "\n"
     ]
    },
    {
     "name": "stderr",
     "output_type": "stream",
     "text": [
      "C:\\Users\\rupal\\AppData\\Local\\Continuum\\anaconda3\\lib\\site-packages\\sklearn\\metrics\\classification.py:1143: UndefinedMetricWarning: Precision and F-score are ill-defined and being set to 0.0 in labels with no predicted samples.\n",
      "  'precision', 'predicted', average, warn_for)\n",
      "C:\\Users\\rupal\\AppData\\Local\\Continuum\\anaconda3\\lib\\site-packages\\sklearn\\metrics\\classification.py:1143: UndefinedMetricWarning: Precision and F-score are ill-defined and being set to 0.0 in labels with no predicted samples.\n",
      "  'precision', 'predicted', average, warn_for)\n",
      "C:\\Users\\rupal\\AppData\\Local\\Continuum\\anaconda3\\lib\\site-packages\\sklearn\\metrics\\classification.py:1143: UndefinedMetricWarning: Precision and F-score are ill-defined and being set to 0.0 in labels with no predicted samples.\n",
      "  'precision', 'predicted', average, warn_for)\n"
     ]
    }
   ],
   "source": [
    "train_data['Baseline_Prediction'] = 1\n",
    "\n",
    "# Accuracy\n",
    "SCORE_BASELINE=accuracy_score(train_data['target'], train_data['Baseline_Prediction'])\n",
    "print(\"SCORE_BASELINE: {r:2.4f}\".format(r=SCORE_BASELINE*100))\n",
    "\n",
    "print(\"CONFUSION MATRIX: \\n \", confusion_matrix(train_data['target'], train_data['Baseline_Prediction']))\n",
    "\n",
    "print(\"Metrices:\\n\",classification_report(train_data['target'], train_data['Baseline_Prediction']))\n",
    "train_data.drop(['Baseline_Prediction'],axis=1,inplace=True)"
   ]
  },
  {
   "cell_type": "markdown",
   "metadata": {},
   "source": [
    "###  <font color=Red> Experiment 1 : Logistic Regression"
   ]
  },
  {
   "cell_type": "markdown",
   "metadata": {},
   "source": [
    "##### <font color=Orange> Experiment 1:Running RFE (Recursive Feature Elimination)                                                      \n",
    "<font color=Black>  The goal of this process is to get important parameters and minimizing the number of parameters used in the model"
   ]
  },
  {
   "cell_type": "code",
   "execution_count": 21,
   "metadata": {
    "scrolled": true
   },
   "outputs": [
    {
     "name": "stdout",
     "output_type": "stream",
     "text": [
      "Selected features: \n",
      " ['credit_hist', 'foreign_worker', 'loan_purpose_A40', 'loan_purpose_A41', 'loan_purpose_A46', 'loan_purpose_A48', 'loan_purpose_A49', 'status_sex_A93', 'debtor_guarantor_A102', 'debtor_guarantor_A103', 'other_installment_A143', 'with_check_acc', 'no_check_acc', 'no_saving_acc', 'loan_amount_GT10k']\n"
     ]
    }
   ],
   "source": [
    "#Defining dependent and independent parameters\n",
    "X_train,Y_train,X_test,Y_test=dep_indep(train_data,test_data)\n",
    "\n",
    "# Build a credit_model and compute the feature importances\n",
    "logistic = LogisticRegression(solver='liblinear')\n",
    "\n",
    "# create the RFE model and select 15 parameters out of 38\n",
    "rfe = RFE(logistic, 15)\n",
    "rfe = rfe.fit(X_train, Y_train)\n",
    "\n",
    "# summarize the selection of the attributes\n",
    "print('Selected features: \\n %s' % list(X_train.columns[rfe.support_]))"
   ]
  },
  {
   "cell_type": "markdown",
   "metadata": {},
   "source": [
    "##### <font color=Orange>Experiment 1: Running Logistic Regression"
   ]
  },
  {
   "cell_type": "code",
   "execution_count": 22,
   "metadata": {
    "scrolled": true
   },
   "outputs": [
    {
     "name": "stdout",
     "output_type": "stream",
     "text": [
      "Accuracy for Train Data 75.86799777335054\n",
      "Accuracy for Test Data 77.5\n",
      "\n",
      " CONFUSION MATRIX for Train Data: \n",
      "  [[115 128]\n",
      " [ 66 491]]\n",
      "\n",
      " CONFUSION MATRIX for Test Data: \n",
      "  [[ 26  31]\n",
      " [ 14 129]]\n",
      "\n",
      " Coefficient:\n",
      "                          0         0\n",
      "0              credit_hist  0.393540\n",
      "1           foreign_worker -1.263990\n",
      "2         loan_purpose_A40 -0.710944\n",
      "3         loan_purpose_A41  0.491968\n",
      "4         loan_purpose_A46 -1.010068\n",
      "5         loan_purpose_A48  0.466278\n",
      "6         loan_purpose_A49 -0.437749\n",
      "7           status_sex_A93  0.409870\n",
      "8    debtor_guarantor_A102 -0.495379\n",
      "9    debtor_guarantor_A103  0.617849\n",
      "10  other_installment_A143  0.508468\n",
      "11          with_check_acc  0.459755\n",
      "12            no_check_acc  2.244155\n",
      "13           no_saving_acc  0.590120\n",
      "14       loan_amount_GT10k -1.506787\n"
     ]
    }
   ],
   "source": [
    "#List of selected parameters from RFE step\n",
    "final_param= ['credit_hist', 'foreign_worker', 'loan_purpose_A40', 'loan_purpose_A41', 'loan_purpose_A46', \n",
    "              'loan_purpose_A48', 'loan_purpose_A49', 'status_sex_A93', 'debtor_guarantor_A102', 'debtor_guarantor_A103',\n",
    "              'other_installment_A143', 'with_check_acc', 'no_check_acc', 'no_saving_acc', 'loan_amount_GT10k']\n",
    "X_train = X_train[final_param]\n",
    "X_test= X_test[final_param]\n",
    "\n",
    "# Defining model\n",
    "logistic = LogisticRegression(solver='liblinear')\n",
    "\n",
    "#Model fitting and prediction\n",
    "logistic.fit(X_train, Y_train)\n",
    "\n",
    "Y_train_pred_1 = logistic.predict(X_train)\n",
    "Y_test_pred_1=logistic.predict(X_test)\n",
    "\n",
    "#5-fold Cross Validation\n",
    "SCORES = cross_val_score(logistic, X_train, Y_train, cv=5, scoring = \"accuracy\")\n",
    "SCORE_1=SCORES.mean()  #Mean\n",
    "\n",
    "print(\"Accuracy for Train Data\",SCORE_1*100)\n",
    "print(\"Accuracy for Test Data\",logistic.score(X_test,Y_test)*100)\n",
    "print(\"\\n CONFUSION MATRIX for Train Data: \\n \", confusion_matrix(Y_train, Y_train_pred_1))\n",
    "print(\"\\n CONFUSION MATRIX for Test Data: \\n \", confusion_matrix(Y_test, Y_test_pred_1))\n",
    "\n",
    "\n",
    "coefficients = pd.concat([pd.DataFrame(X_train.columns),pd.DataFrame(np.transpose(logistic.coef_))], axis = 1)\n",
    "print(\"\\n Coefficient:\\n\",coefficients)"
   ]
  },
  {
   "cell_type": "markdown",
   "metadata": {},
   "source": [
    "##### <font color=Orange>Experiment 1: Result & Discussion on Logistic Regression"
   ]
  },
  {
   "cell_type": "code",
   "execution_count": 23,
   "metadata": {
    "scrolled": true
   },
   "outputs": [
    {
     "name": "stdout",
     "output_type": "stream",
     "text": [
      "Accuracy for Test Data 77.5\n",
      "Metrices:\n",
      "               precision    recall  f1-score   support\n",
      "\n",
      "           0       0.65      0.46      0.54        57\n",
      "           1       0.81      0.90      0.85       143\n",
      "\n",
      "   micro avg       0.78      0.78      0.78       200\n",
      "   macro avg       0.73      0.68      0.69       200\n",
      "weighted avg       0.76      0.78      0.76       200\n",
      "\n"
     ]
    }
   ],
   "source": [
    "# All the metrices for Test Data\n",
    "print(\"Accuracy for Test Data\",logistic.score(X_test,Y_test)*100)\n",
    "print(\"Metrices:\\n\",classification_report(Y_test, Y_test_pred_1))"
   ]
  },
  {
   "cell_type": "code",
   "execution_count": 24,
   "metadata": {
    "scrolled": true
   },
   "outputs": [
    {
     "data": {
      "image/png": "[encoded data removed]",
      "text/plain": [
       "<Figure size 432x288 with 1 Axes>"
      ]
     },
     "metadata": {
      "needs_background": "light"
     },
     "output_type": "display_data"
    }
   ],
   "source": [
    "#ROC Curve\n",
    "logit_roc_auc = roc_auc_score(Y_test, logistic.predict(X_test))\n",
    "fpr, tpr, thresholds = roc_curve(Y_test, logistic.predict_proba(X_test)[:,1])\n",
    "plt.figure()\n",
    "plt.plot(fpr, tpr, label='Logistic Regression (area = %0.2f)' % logit_roc_auc)\n",
    "plt.plot([0, 1], [0, 1],'r--')\n",
    "plt.xlim([0.0, 1.0])\n",
    "plt.ylim([0.0, 1.05])\n",
    "plt.xlabel('False Positive Rate')\n",
    "plt.ylabel('True Positive Rate')\n",
    "plt.legend(loc=\"lower right\")\n",
    "plt.show()"
   ]
  },
  {
   "cell_type": "markdown",
   "metadata": {},
   "source": [
    "###### <font color=Green> Discussion\n",
    " - Accuracy for insample is 75.87 and for out-of-sample is 77.5 which is better than baseline model.\n",
    " - Precision of model has improved both for Good Risk and Bad Risk prediction. ROC curve suggests out of sample value of 68%\n",
    " - The model works well with 15 variables given by RFE, opposed to all 37 variables because of exclusion of insignificant variables from the model.The leftover variables give a good out of sample accuracy \n",
    " - The final variables in the model seems to be intuitive and has correct coefficient sign as discussed in Data Analysis Section"
   ]
  },
  {
   "cell_type": "markdown",
   "metadata": {},
   "source": [
    "###  <font color=Red> Experiment 2 : Random Forest"
   ]
  },
  {
   "cell_type": "markdown",
   "metadata": {},
   "source": [
    "##### <font color=Orange>Experiment 2: Getting best parameters for Random Forest"
   ]
  },
  {
   "cell_type": "code",
   "execution_count": 25,
   "metadata": {
    "scrolled": false
   },
   "outputs": [
    {
     "name": "stdout",
     "output_type": "stream",
     "text": [
      "0.7625\n",
      "{'max_depth': 7, 'max_features': 7, 'n_estimators': 10}\n"
     ]
    },
    {
     "name": "stderr",
     "output_type": "stream",
     "text": [
      "C:\\Users\\rupal\\AppData\\Local\\Continuum\\anaconda3\\lib\\site-packages\\sklearn\\model_selection\\_search.py:841: DeprecationWarning: The default of the `iid` parameter will change from True to False in version 0.22 and will be removed in 0.24. This will change numeric results when test-set sizes are unequal.\n",
      "  DeprecationWarning)\n"
     ]
    }
   ],
   "source": [
    "#Defining dependent and independent parameters\n",
    "X_train,Y_train,X_test,Y_test=dep_indep(train_data,test_data)\n",
    "\n",
    "#Seting the Hyper Parameters\n",
    "param_grid = {\"max_depth\": [3,5, 7, 10,None],\n",
    "              \"n_estimators\":[3,5,10,50,100],\n",
    "              \"max_features\": [4,7,15,20,37]}\n",
    "\n",
    "#Creating the classifier\n",
    "model = RandomForestClassifier(random_state=2)\n",
    "\n",
    "grid_search = GridSearchCV(model, param_grid=param_grid, cv=5, scoring='accuracy')\n",
    "grid_search.fit(X_train, Y_train)\n",
    "print(grid_search.best_score_)\n",
    "print(grid_search.best_params_)"
   ]
  },
  {
   "cell_type": "markdown",
   "metadata": {},
   "source": [
    "##### <font color=Orange>Experiment 2: Running Random Forest"
   ]
  },
  {
   "cell_type": "code",
   "execution_count": 36,
   "metadata": {
    "scrolled": true
   },
   "outputs": [
    {
     "name": "stdout",
     "output_type": "stream",
     "text": [
      "SCORE for Train Data 76.24377417086605\n",
      "SCORE for Test Data 72.5\n",
      "\n",
      " Feature_importances: \n",
      "                         Importance\n",
      "with_check_acc            0.138566\n",
      "dur                       0.127114\n",
      "credit_hist               0.091815\n",
      "age                       0.083801\n",
      "no_check_acc              0.063653\n",
      "property                  0.049498\n",
      "with_saving_acc           0.046495\n",
      "loan_purpose_A40          0.031172\n",
      "installment_rate          0.028389\n",
      "employment_GT1            0.027651\n",
      "loan_amount_GT10k         0.027238\n",
      "status_sex_A92            0.021955\n",
      "loan_purpose_A49          0.021115\n",
      "other_installment_A141    0.020384\n",
      "existing_credits_1to3     0.020149\n",
      "no_saving_acc             0.019314\n",
      "other_installment_A143    0.017662\n",
      "loan_purpose_A46          0.017462\n",
      "existing_credits_4        0.015569\n",
      "housing_own               0.015163\n",
      "status_sex_A93            0.015120\n",
      "count_liable_people       0.011468\n",
      "debtor_guarantor_A103     0.011226\n",
      "loan_purpose_A43          0.010611\n",
      "debtor_guarantor_A101     0.009502\n",
      "loan_purpose_A41          0.007599\n",
      "status_sex_A94            0.006843\n",
      "other_installment_A142    0.006791\n",
      "status_sex_A91            0.006453\n",
      "debtor_guarantor_A102     0.005917\n",
      "telephone_status          0.004870\n",
      "loan_purpose_A42          0.004757\n",
      "loan_purpose_A45          0.004695\n",
      "loan_purpose_A44          0.003927\n",
      "foreign_worker            0.003641\n",
      "loan_purpose_A48          0.001495\n",
      "loan_purpose_A410         0.000918\n"
     ]
    }
   ],
   "source": [
    "#Defining dependent and independent parameters\n",
    "X_train,Y_train,X_test,Y_test=dep_indep(train_data,test_data)\n",
    "\n",
    "# Defining model\n",
    "rand_forest = RandomForestClassifier(max_depth=7, max_features=7, n_estimators=10, random_state=2)\n",
    "\n",
    "#Model fitting and Predictions\n",
    "rand_forest.fit(X_train, Y_train)\n",
    "Y_train_pred_2 = rand_forest.predict(X_train)\n",
    "Y_test_pred_2 = rand_forest.predict(X_test)\n",
    "\n",
    "#5-fold Cross Validation\n",
    "SCORES = cross_val_score(rand_forest, X_train, Y_train, cv=5, scoring = \"accuracy\")\n",
    "SCORE_2=SCORES.mean()  #Mean\n",
    "\n",
    "print(\"SCORE for Train Data\",SCORE_2*100)\n",
    "print(\"SCORE for Test Data\",rand_forest.score(X_test,Y_test)*100)\n",
    "\n",
    "#Feature Importances\n",
    "feature_importances = pd.DataFrame(rand_forest.feature_importances_,\n",
    "                                   index = X_train.columns,\n",
    "                                    columns=['Importance']).sort_values('Importance',ascending=False)\n",
    "print(\"\\n Feature_importances: \\n\",feature_importances)"
   ]
  },
  {
   "cell_type": "code",
   "execution_count": 27,
   "metadata": {},
   "outputs": [
    {
     "data": {
      "text/plain": [
       "<matplotlib.axes._subplots.AxesSubplot at 0x20a4e7e3a20>"
      ]
     },
     "execution_count": 27,
     "metadata": {},
     "output_type": "execute_result"
    },
    {
     "data": {
      "image/png": "[encoded data removed]",
      "text/plain": [
       "<Figure size 1296x360 with 1 Axes>"
      ]
     },
     "metadata": {
      "needs_background": "light"
     },
     "output_type": "display_data"
    }
   ],
   "source": [
    "#Bar Plot of Feature Importance\n",
    "feature_importances.plot.bar(figsize=(18,5))"
   ]
  },
  {
   "cell_type": "markdown",
   "metadata": {},
   "source": [
    "##### <font color=Orange>Experiment 2: Re-Running Random Forest with Important Parameters only"
   ]
  },
  {
   "cell_type": "code",
   "execution_count": 37,
   "metadata": {},
   "outputs": [
    {
     "name": "stdout",
     "output_type": "stream",
     "text": [
      "SCORE for Train Data 74.36483358724949\n",
      "SCORE for Test Data 72.5\n",
      "\n",
      " Feature_importances: \n",
      "                         Importance\n",
      "dur                       0.188408\n",
      "age                       0.147587\n",
      "no_check_acc              0.128382\n",
      "credit_hist               0.090652\n",
      "with_check_acc            0.069461\n",
      "property                  0.067526\n",
      "with_saving_acc           0.059899\n",
      "installment_rate          0.041975\n",
      "other_installment_A141    0.036347\n",
      "loan_purpose_A40          0.032570\n",
      "employment_GT1            0.030315\n",
      "status_sex_A92            0.029645\n",
      "existing_credits_1to3     0.027148\n",
      "loan_amount_GT10k         0.027094\n",
      "loan_purpose_A49          0.022992\n"
     ]
    }
   ],
   "source": [
    "#Using Important Variables (Significance>2%) in the model\n",
    "final_param=['with_check_acc','dur','credit_hist','age','no_check_acc','property','with_saving_acc','loan_purpose_A40',\n",
    "             'installment_rate','employment_GT1','loan_amount_GT10k','status_sex_A92','loan_purpose_A49',\n",
    "             'other_installment_A141','existing_credits_1to3']\n",
    "\n",
    "X_train=X_train[final_param]\n",
    "X_test=X_test[final_param]\n",
    "\n",
    "#Model fitting and Predictions\n",
    "rand_forest.fit(X_train, Y_train)\n",
    "Y_train_pred_2 = rand_forest.predict(X_train)\n",
    "Y_test_pred_2 = rand_forest.predict(X_test)\n",
    "\n",
    "#5-fold Cross Validation\n",
    "SCORES = cross_val_score(rand_forest, X_train, Y_train, cv=5, scoring = \"accuracy\")\n",
    "SCORE_2=SCORES.mean()  #Mean\n",
    "\n",
    "print(\"SCORE for Train Data\",SCORE_2*100)\n",
    "print(\"SCORE for Test Data\",rand_forest.score(X_test,Y_test)*100)\n",
    "\n",
    "#Feature Importances\n",
    "feature_importances = pd.DataFrame(rand_forest.feature_importances_,\n",
    "                                   index = X_train.columns,\n",
    "                                    columns=['Importance']).sort_values('Importance',ascending=False)\n",
    "print(\"\\n Feature_importances: \\n\",feature_importances)"
   ]
  },
  {
   "cell_type": "code",
   "execution_count": 38,
   "metadata": {
    "scrolled": true
   },
   "outputs": [
    {
     "data": {
      "text/plain": [
       "<matplotlib.axes._subplots.AxesSubplot at 0x20a4e5af550>"
      ]
     },
     "execution_count": 38,
     "metadata": {},
     "output_type": "execute_result"
    },
    {
     "data": {
      "image/png": "[encoded data removed]",
      "text/plain": [
       "<Figure size 1296x360 with 1 Axes>"
      ]
     },
     "metadata": {
      "needs_background": "light"
     },
     "output_type": "display_data"
    }
   ],
   "source": [
    "#Bar Plot of Feature Importance\n",
    "feature_importances.plot.bar(figsize=(18,5))"
   ]
  },
  {
   "cell_type": "markdown",
   "metadata": {},
   "source": [
    "##### <font color=Orange>Experiment 2: Result & Discussion on Random Forest"
   ]
  },
  {
   "cell_type": "code",
   "execution_count": 39,
   "metadata": {
    "scrolled": false
   },
   "outputs": [
    {
     "name": "stdout",
     "output_type": "stream",
     "text": [
      "SCORE for Train Data 74.36483358724949\n",
      "SCORE for Test Data 72.5\n",
      "Metrices:\n",
      "               precision    recall  f1-score   support\n",
      "\n",
      "           0       0.52      0.39      0.44        57\n",
      "           1       0.78      0.86      0.82       143\n",
      "\n",
      "   micro avg       0.72      0.72      0.73       200\n",
      "   macro avg       0.65      0.62      0.63       200\n",
      "weighted avg       0.71      0.72      0.71       200\n",
      "\n"
     ]
    }
   ],
   "source": [
    "# All the metrices and ROC Curve\n",
    "print(\"SCORE for Train Data\",SCORE_2*100)\n",
    "print(\"SCORE for Test Data\",rand_forest.score(X_test,Y_test)*100)\n",
    "print(\"Metrices:\\n\",classification_report(Y_test, Y_test_pred_2))"
   ]
  },
  {
   "cell_type": "code",
   "execution_count": 40,
   "metadata": {
    "scrolled": true
   },
   "outputs": [
    {
     "data": {
      "image/png": "[encoded data removed]",
      "text/plain": [
       "<Figure size 432x288 with 1 Axes>"
      ]
     },
     "metadata": {
      "needs_background": "light"
     },
     "output_type": "display_data"
    }
   ],
   "source": [
    "#ROC Curve\n",
    "rf_roc_auc = roc_auc_score(Y_test, rand_forest.predict(X_test))\n",
    "fpr, tpr, thresholds = roc_curve(Y_test, rand_forest.predict_proba(X_test)[:,1])\n",
    "plt.figure()\n",
    "plt.plot(fpr, tpr, label='Random Forest (area = %0.2f)' % rf_roc_auc)\n",
    "plt.plot([0, 1], [0, 1],'r--')\n",
    "plt.xlim([0.0, 1.0])\n",
    "plt.ylim([0.0, 1.05])\n",
    "plt.xlabel('False Positive Rate')\n",
    "plt.ylabel('True Positive Rate')\n",
    "plt.legend(loc=\"lower right\")\n",
    "plt.show()"
   ]
  },
  {
   "cell_type": "markdown",
   "metadata": {},
   "source": [
    "###### <font color=Green> Discussion\n",
    " - Accuracy for insample is 74.36 and for out-of-sample is 72.5 which is better than baseline model but worse than logistic regression\n",
    " - Precision of model has improved both for Good Risk and Bad Risk prediction while Recall for Good Risk has deteriorated as expected. ROC curve suggests out of sample value of 62%\n",
    " - Feature importance table suggests that around 80% of model is explained by 15 top variables alone. Rest of the variables add very little value to the model"
   ]
  },
  {
   "cell_type": "markdown",
   "metadata": {},
   "source": [
    "###  <font color=Red> Experiment 3 : Support Vector Machine(SVM)"
   ]
  },
  {
   "cell_type": "markdown",
   "metadata": {},
   "source": [
    "##### <font color=Orange>Experiment 3: Running SVM"
   ]
  },
  {
   "cell_type": "code",
   "execution_count": 32,
   "metadata": {
    "scrolled": true
   },
   "outputs": [],
   "source": [
    "#Defining dependent and independent parameters\n",
    "X_train,Y_train,X_test,Y_test=dep_indep(train_data,test_data)\n",
    "\n",
    "# Defining model\n",
    "svm= SVC(gamma=\"auto\")\n",
    "svm.probability = True  #This step is required for ROC curve for SVM model\n",
    "\n",
    "#Model fitting and prediction\n",
    "svm.fit(X_train, Y_train)\n",
    "\n",
    "Y_train_pred_3 = svm.predict(X_train)\n",
    "Y_test_pred_3=svm.predict(X_test)\n",
    "\n",
    "#5-fold Cross Validation\n",
    "SCORES = cross_val_score(svm, X_train, Y_train, cv=5, scoring = \"accuracy\")\n",
    "SCORE_3=SCORES.mean()  #Mean"
   ]
  },
  {
   "cell_type": "markdown",
   "metadata": {},
   "source": [
    "##### <font color=Orange>Experiment 3: Result & Discussion on SVM"
   ]
  },
  {
   "cell_type": "code",
   "execution_count": 33,
   "metadata": {
    "scrolled": false
   },
   "outputs": [
    {
     "name": "stdout",
     "output_type": "stream",
     "text": [
      "SCORE for Train Data 69.73967733114576\n",
      "SCORE for Test Data 71.0\n",
      "Metrices:\n",
      "               precision    recall  f1-score   support\n",
      "\n",
      "           0       0.47      0.16      0.24        57\n",
      "           1       0.73      0.93      0.82       143\n",
      "\n",
      "   micro avg       0.71      0.71      0.71       200\n",
      "   macro avg       0.60      0.54      0.53       200\n",
      "weighted avg       0.66      0.71      0.65       200\n",
      "\n"
     ]
    }
   ],
   "source": [
    "# All the metrices and ROC Curve\n",
    "print(\"SCORE for Train Data\",SCORE_3*100)\n",
    "print(\"SCORE for Test Data\",svm.score(X_test,Y_test)*100)\n",
    "print(\"Metrices:\\n\",classification_report(Y_test, Y_test_pred_3))"
   ]
  },
  {
   "cell_type": "code",
   "execution_count": 34,
   "metadata": {
    "scrolled": true
   },
   "outputs": [
    {
     "data": {
      "image/png": "[encoded data removed]",
      "text/plain": [
       "<Figure size 432x288 with 1 Axes>"
      ]
     },
     "metadata": {
      "needs_background": "light"
     },
     "output_type": "display_data"
    }
   ],
   "source": [
    "#ROC Curve\n",
    "svm_roc_auc = roc_auc_score(Y_test, svm.predict(X_test))\n",
    "fpr, tpr, thresholds = roc_curve(Y_test, svm.predict_proba(X_test)[:,1])\n",
    "plt.figure()\n",
    "plt.plot(fpr, tpr, label='SVM (area = %0.2f)' % svm_roc_auc)\n",
    "plt.plot([0, 1], [0, 1],'r--')\n",
    "plt.xlim([0.0, 1.0])\n",
    "plt.ylim([0.0, 1.05])\n",
    "plt.xlabel('False Positive Rate')\n",
    "plt.ylabel('True Positive Rate')\n",
    "plt.legend(loc=\"lower right\")\n",
    "plt.show()"
   ]
  },
  {
   "cell_type": "markdown",
   "metadata": {},
   "source": [
    "###### <font color=Green> Discussion\n",
    " - Accuracy for insample is 69.73 and for out-of-sample is 71 which is very close to Baseline model accuracy of 69.63.\n",
    " - Precision of model has improved both for Good Risk and Bad Risk prediction. ROC curve suggests out of sample value of 54%\n",
    " - The model seems to perform poorly compared to other 2 models"
   ]
  },
  {
   "cell_type": "markdown",
   "metadata": {},
   "source": [
    "###  <font color=Red> Final Model"
   ]
  },
  {
   "cell_type": "markdown",
   "metadata": {},
   "source": [
    "###### Logistic Regression is considered to be final model because of highest out of sample accuracy(77.5%) and ROC(68%). It does a good job in differentiating Good Risk from Bad Risk. Please refer to Experiment 3 for more details about the model"
   ]
  },
  {
   "cell_type": "code",
   "execution_count": 35,
   "metadata": {},
   "outputs": [],
   "source": [
    "##############Setting final model(credit_model) as logistic model##############\n",
    "\n",
    "credit_model=logistic  #Which is defined in Experiment 1\n",
    "\n",
    "\n",
    "#Defining final dependent and independent parameters\n",
    "X_train,Y_train,X_test,Y_test=dep_indep(train_data,test_data)\n",
    "\n",
    "#Listing Final parameters decided by RFE step\n",
    "final_param= ['credit_hist', 'foreign_worker', 'loan_purpose_A40', 'loan_purpose_A41', 'loan_purpose_A46', \n",
    "              'loan_purpose_A48', 'loan_purpose_A49', 'status_sex_A93', 'debtor_guarantor_A102', 'debtor_guarantor_A103',\n",
    "              'other_installment_A143', 'with_check_acc', 'no_check_acc', 'no_saving_acc', 'loan_amount_GT10k']\n",
    "\n",
    "X_train = X_train[final_param]\n",
    "X_test= X_test[final_param]"
   ]
  }
 ],
 "metadata": {
  "kernelspec": {
   "display_name": "Python 3",
   "language": "python",
   "name": "python3"
  },
  "language_info": {
   "codemirror_mode": {
    "name": "ipython",
    "version": 3
   },
   "file_extension": ".py",
   "mimetype": "text/x-python",
   "name": "python",
   "nbconvert_exporter": "python",
   "pygments_lexer": "ipython3",
   "version": "3.6.5"
  },
  "toc": {
   "base_numbering": 1,
   "nav_menu": {},
   "number_sections": true,
   "sideBar": true,
   "skip_h1_title": false,
   "title_cell": "Table of Contents",
   "title_sidebar": "Contents",
   "toc_cell": false,
   "toc_position": {},
   "toc_section_display": true,
   "toc_window_display": false
  }
 },
 "nbformat": 4,
 "nbformat_minor": 2
}
